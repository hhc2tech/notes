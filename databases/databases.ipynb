{
 "cells": [
  {
   "cell_type": "markdown",
   "metadata": {},
   "source": [
    "# Examples of how to create and use databases with Python\n",
    "\n",
    "These examples focus on how to use python to make working with databases easier, and evaluate what options there are for data storage. One essential aspect of python create a persistent session, where datastorage becomes a necessity. Storing data in Python can be done in a variety of ways using pickle, sqlite3, sqlalchemy, csv, xml, xlsx, txt, mongodb, etc. One big advantage of having a database rather than a file is to allow for concurrent access, or allow for complex searches\n",
    "\n",
    "### Terminology\n",
    "* flat files - csv, txt, etc\n",
    "* DBM keyed files - keyed access to dictionary like files\n",
    "* pickled objects-serialized python objects saved to files and streams. python module to store objects\n",
    "* shelve files - pickled python objects saved in DBM files\n",
    "* OODB - Object oriented databases, ZODB, Durus\n",
    "* RDBMS - SQL relational databases (eg SQLite). MySQL and Postgres) is open source\n",
    "* ORM - Object relational mappers, SQLObject, SqlAlchemy retains python class view but also translates the information to and from a relational database\n",
    "\n",
    "The module sqlite3 provides access to the SQLite relational database and provides \n",
    "a large portion of the functionality of SQL\n",
    "\n",
    "### References\n",
    "Python for Data Anaylsis- Wes McKinney <br />\n",
    "Beginning Python_ From Novice to Profess - Magnus Lie Hetland <br />\n",
    "Data Analysis with Open Source  - Philipp K. Janert <br />\n",
    "Data Structures and Algorithms  - Michael T. Goodrich <br />\n",
    "Learning Python - Mark Lutz <br />"
   ]
  },
  {
   "cell_type": "markdown",
   "metadata": {},
   "source": [
    "## Python for Data Anaylsis- Wes McKinney\n",
    "http://blog.wesmckinney.com/\n",
    "<img src='http://akamaicovers.oreilly.com/images/0636920023784/cat.gif'>\n"
   ]
  },
  {
   "cell_type": "code",
   "execution_count": 137,
   "metadata": {
    "collapsed": false
   },
   "outputs": [],
   "source": [
    "import sqlite3\n",
    "import pandas"
   ]
  },
  {
   "cell_type": "code",
   "execution_count": 138,
   "metadata": {
    "collapsed": false
   },
   "outputs": [],
   "source": [
    "# create database in memory, pg 175\n",
    "query = \"\"\"\n",
    "CREATE TABLE test\n",
    "(a VARCHAR(20),b VARCHAR(20),\n",
    "c REAL, d INTEGER\n",
    ");\"\"\"\n",
    "con = sqlite3.connect(':memory:')  # creates a temporary data in memory\n",
    "con.execute(query)\n",
    "con.commit()"
   ]
  },
  {
   "cell_type": "code",
   "execution_count": 139,
   "metadata": {
    "collapsed": false
   },
   "outputs": [],
   "source": [
    "# insert some data\n",
    "data = [('Atlanta', 'Georgia', 1.25,6),\n",
    "        ('Tallahassee','Florida',2.6,2),\n",
    "        ('Sacramento','California', 1.7, 5)]\n",
    "stmt = \"INSERT INTO test VALUES(?,?,?,?)\"\n",
    "con.executemany(stmt, data)\n",
    "con.commit()"
   ]
  },
  {
   "cell_type": "code",
   "execution_count": 140,
   "metadata": {
    "collapsed": false
   },
   "outputs": [
    {
     "data": {
      "text/plain": [
       "[(u'Atlanta', u'Georgia', 1.25, 6),\n",
       " (u'Tallahassee', u'Florida', 2.6, 2),\n",
       " (u'Sacramento', u'California', 1.7, 5)]"
      ]
     },
     "execution_count": 140,
     "metadata": {},
     "output_type": "execute_result"
    }
   ],
   "source": [
    "# return data\n",
    "cursor = con.execute('select * from test')\n",
    "rows = cursor.fetchall()\n",
    "rows"
   ]
  },
  {
   "cell_type": "code",
   "execution_count": 141,
   "metadata": {
    "collapsed": false
   },
   "outputs": [
    {
     "data": {
      "text/plain": [
       "(('a', None, None, None, None, None, None),\n",
       " ('b', None, None, None, None, None, None),\n",
       " ('c', None, None, None, None, None, None),\n",
       " ('d', None, None, None, None, None, None))"
      ]
     },
     "execution_count": 141,
     "metadata": {},
     "output_type": "execute_result"
    }
   ],
   "source": [
    "cursor.description"
   ]
  },
  {
   "cell_type": "code",
   "execution_count": 128,
   "metadata": {
    "collapsed": false
   },
   "outputs": [
    {
     "data": {
      "text/html": [
       "<div style=\"max-height:1000px;max-width:1500px;overflow:auto;\">\n",
       "<table border=\"1\" class=\"dataframe\">\n",
       "  <thead>\n",
       "    <tr style=\"text-align: right;\">\n",
       "      <th></th>\n",
       "      <th>a</th>\n",
       "      <th>b</th>\n",
       "      <th>c</th>\n",
       "      <th>d</th>\n",
       "    </tr>\n",
       "  </thead>\n",
       "  <tbody>\n",
       "    <tr>\n",
       "      <th>0</th>\n",
       "      <td>     Atlanta</td>\n",
       "      <td>    Georgia</td>\n",
       "      <td> 1.25</td>\n",
       "      <td> 6</td>\n",
       "    </tr>\n",
       "    <tr>\n",
       "      <th>1</th>\n",
       "      <td> Tallahassee</td>\n",
       "      <td>    Florida</td>\n",
       "      <td> 2.60</td>\n",
       "      <td> 2</td>\n",
       "    </tr>\n",
       "    <tr>\n",
       "      <th>2</th>\n",
       "      <td>  Sacramento</td>\n",
       "      <td> California</td>\n",
       "      <td> 1.70</td>\n",
       "      <td> 5</td>\n",
       "    </tr>\n",
       "  </tbody>\n",
       "</table>\n",
       "</div>"
      ],
      "text/plain": [
       "             a           b     c  d\n",
       "0      Atlanta     Georgia  1.25  6\n",
       "1  Tallahassee     Florida  2.60  2\n",
       "2   Sacramento  California  1.70  5"
      ]
     },
     "execution_count": 128,
     "metadata": {},
     "output_type": "execute_result"
    }
   ],
   "source": [
    "# create a pandas dataframe from the database\n",
    "pandas.DataFrame(rows, columns=zip(*cursor.description)[0])"
   ]
  },
  {
   "cell_type": "code",
   "execution_count": 129,
   "metadata": {
    "collapsed": false
   },
   "outputs": [
    {
     "data": {
      "text/html": [
       "<div style=\"max-height:1000px;max-width:1500px;overflow:auto;\">\n",
       "<table border=\"1\" class=\"dataframe\">\n",
       "  <thead>\n",
       "    <tr style=\"text-align: right;\">\n",
       "      <th></th>\n",
       "      <th>a</th>\n",
       "      <th>b</th>\n",
       "      <th>c</th>\n",
       "      <th>d</th>\n",
       "    </tr>\n",
       "  </thead>\n",
       "  <tbody>\n",
       "    <tr>\n",
       "      <th>0</th>\n",
       "      <td>     Atlanta</td>\n",
       "      <td>    Georgia</td>\n",
       "      <td> 1.25</td>\n",
       "      <td> 6</td>\n",
       "    </tr>\n",
       "    <tr>\n",
       "      <th>1</th>\n",
       "      <td> Tallahassee</td>\n",
       "      <td>    Florida</td>\n",
       "      <td> 2.60</td>\n",
       "      <td> 2</td>\n",
       "    </tr>\n",
       "    <tr>\n",
       "      <th>2</th>\n",
       "      <td>  Sacramento</td>\n",
       "      <td> California</td>\n",
       "      <td> 1.70</td>\n",
       "      <td> 5</td>\n",
       "    </tr>\n",
       "  </tbody>\n",
       "</table>\n",
       "</div>"
      ],
      "text/plain": [
       "             a           b     c  d\n",
       "0      Atlanta     Georgia  1.25  6\n",
       "1  Tallahassee     Florida  2.60  2\n",
       "2   Sacramento  California  1.70  5"
      ]
     },
     "execution_count": 129,
     "metadata": {},
     "output_type": "execute_result"
    }
   ],
   "source": [
    "# directly read the database\n",
    "pandas.io.sql.read_sql('select * from test',con)"
   ]
  },
  {
   "cell_type": "markdown",
   "metadata": {},
   "source": [
    "Can also use a NoSQL database such as BerkeleyDB or MongoDB"
   ]
  },
  {
   "cell_type": "code",
   "execution_count": null,
   "metadata": {
    "collapsed": false
   },
   "outputs": [],
   "source": []
  },
  {
   "cell_type": "markdown",
   "metadata": {},
   "source": [
    "## Programming Python - Mark Lutz.pdf\n",
    "http://www.rmi.net/~lutz/\n",
    "<img src= 'http://www.rmi.net/~lutz/ora-pp4e-small.gif'>\n",
    "\n",
    "pg 1329 <br/>\n",
    "SQL databases can be accessed directly from python with some basic functionality\n",
    "\n",
    "* connection objects represent a connection to a database\n",
    "* cursor objects - represents an SQL statement submitted as a string\n",
    "* Query results - uses select statement"
   ]
  },
  {
   "cell_type": "code",
   "execution_count": 164,
   "metadata": {
    "collapsed": false
   },
   "outputs": [],
   "source": [
    "import sqlite3\n",
    "conn = sqlite3.connect('dbase1')"
   ]
  },
  {
   "cell_type": "code",
   "execution_count": 165,
   "metadata": {
    "collapsed": false
   },
   "outputs": [
    {
     "ename": "OperationalError",
     "evalue": "near \"(\": syntax error",
     "output_type": "error",
     "traceback": [
      "\u001b[1;31m---------------------------------------------------------------------------\u001b[0m\n\u001b[1;31mOperationalError\u001b[0m                          Traceback (most recent call last)",
      "\u001b[1;32m<ipython-input-165-261415acbc6e>\u001b[0m in \u001b[0;36m<module>\u001b[1;34m()\u001b[0m\n\u001b[0;32m      3\u001b[0m tblcmd = '''CREATE TABLE people \n\u001b[0;32m      4\u001b[0m             (name, CHAR(30), job CHAR(10), pay INT(4) )'''\n\u001b[1;32m----> 5\u001b[1;33m \u001b[0mcurs\u001b[0m\u001b[1;33m.\u001b[0m\u001b[0mexecute\u001b[0m\u001b[1;33m(\u001b[0m\u001b[0mtblcmd\u001b[0m\u001b[1;33m)\u001b[0m\u001b[1;33m\u001b[0m\u001b[0m\n\u001b[0m",
      "\u001b[1;31mOperationalError\u001b[0m: near \"(\": syntax error"
     ]
    }
   ],
   "source": [
    "# making a database and tables\n",
    "curs = conn.cursor()\n",
    "tblcmd = '''CREATE TABLE people \n",
    "            (name, CHAR(30), job CHAR(10), pay INT(4) )'''\n",
    "curs.execute(tblcmd)"
   ]
  },
  {
   "cell_type": "code",
   "execution_count": 166,
   "metadata": {
    "collapsed": false
   },
   "outputs": [],
   "source": [
    "conn.close()"
   ]
  },
  {
   "cell_type": "code",
   "execution_count": 166,
   "metadata": {
    "collapsed": false
   },
   "outputs": [],
   "source": []
  },
  {
   "cell_type": "markdown",
   "metadata": {},
   "source": [
    "## Data Analysis with Open Source  - Philipp K. Janert\n",
    "<img src='http://akamaicovers.oreilly.com/images/9780596802363/cat.gif?'>"
   ]
  },
  {
   "cell_type": "code",
   "execution_count": 130,
   "metadata": {
    "collapsed": false
   },
   "outputs": [],
   "source": [
    "import sqlite3, os"
   ]
  },
  {
   "cell_type": "code",
   "execution_count": 131,
   "metadata": {
    "collapsed": false
   },
   "outputs": [],
   "source": [
    "# delete the database if it exists\n",
    "try:\n",
    "    conn.close() # disconnect database\n",
    "    os.remove('data.dbl')\n",
    "except:\n",
    "    pass"
   ]
  },
  {
   "cell_type": "code",
   "execution_count": 132,
   "metadata": {
    "collapsed": false
   },
   "outputs": [],
   "source": [
    "# connect and obtain a cursor\n",
    "conn = sqlite3.connect('data.dbl')\n",
    "conn.isolation_level = None   # use autocommit\n",
    "c = conn.cursor()"
   ]
  },
  {
   "cell_type": "code",
   "execution_count": 133,
   "metadata": {
    "collapsed": false
   },
   "outputs": [
    {
     "data": {
      "text/plain": [
       "<sqlite3.Cursor at 0xad826c0>"
      ]
     },
     "execution_count": 133,
     "metadata": {},
     "output_type": "execute_result"
    }
   ],
   "source": [
    "# Create tables\n",
    "c.execute( \"\"\"CREATE TABLE orders\n",
    "                ( id INTEGER PRIMARY KEY AUTOINCREMENT,\n",
    "                customer )\"\"\" )\n",
    "c.execute( \"\"\"CREATE TABLE lineitems\n",
    "            ( id INTEGER PRIMARY KEY AUTOINCREMENT,\n",
    "            orderid, description, quantity )\"\"\" )"
   ]
  },
  {
   "cell_type": "code",
   "execution_count": 134,
   "metadata": {
    "collapsed": false
   },
   "outputs": [
    {
     "data": {
      "text/plain": [
       "<sqlite3.Cursor at 0xad826c0>"
      ]
     },
     "execution_count": 134,
     "metadata": {},
     "output_type": "execute_result"
    }
   ],
   "source": [
    "# Insert Values\n",
    "c.execute(\"INSERT INTO orders (customer) VALUES ('Joe Blo')\")\n",
    "id = str(c.lastrowid)\n",
    "\n",
    "c.execute(\"\"\"INSERT INTO lineitems (orderid, description, quantity )\n",
    "             VALUES ( ?, 'Widget 1','2')\"\"\",(id,))\n",
    "c.execute(\"\"\"INSERT INTO lineitems (orderid, description, quantity )\n",
    "             VALUES ( ?, 'Fidget 1','1')\"\"\",(id,))\n",
    "c.execute(\"\"\"INSERT INTO lineitems (orderid, description, quantity )\n",
    "             VALUES ( ?, 'Part 17','5')\"\"\",(id,))\n",
    "\n",
    "c.execute(\"INSERT INTO orders ( customer ) VALUES ('Jane Doe')\" )\n",
    "id = str(c.lastrowid)\n",
    "\n",
    "c.execute(\"\"\"INSERT INTO lineitems (orderid, description, quantity )\n",
    "             VALUES ( ?, 'Fidget 2','3')\"\"\",(id,))\n",
    "c.execute(\"\"\"INSERT INTO lineitems (orderid, description, quantity )\n",
    "             VALUES ( ?, 'Part 9','2')\"\"\",(id,))\n"
   ]
  },
  {
   "cell_type": "code",
   "execution_count": 135,
   "metadata": {
    "collapsed": false
   },
   "outputs": [
    {
     "name": "stdout",
     "output_type": "stream",
     "text": [
      "[0]\n",
      "[0]\n",
      "[0]\n",
      "OrderID:  2 \t Items:  5\n",
      "OrderID:  1 \t Items:  8\n"
     ]
    }
   ],
   "source": [
    "# Query\n",
    "c.execute(\"\"\"SELECT li.description FROM orders o, lineitems li\n",
    "            WHERE o.id = li.orderid AND o.customer LIKE '%Blo' \"\"\")\n",
    "for r in c.fetchall():\n",
    "    print[0]\n",
    "    \n",
    "c.execute( \"\"\"SELECT orderid, sum(quantity) FROM lineitems\n",
    "                GROUP BY orderid ORDER BY orderid desc\"\"\" )\n",
    "for r in c.fetchall():\n",
    "    print \"OrderID: \", r[0], \"\\t Items: \", r[1]"
   ]
  },
  {
   "cell_type": "code",
   "execution_count": 136,
   "metadata": {
    "collapsed": false
   },
   "outputs": [],
   "source": [
    "# disconnect database\n",
    "conn.close()\n",
    "# os.remove('data.dbl')"
   ]
  }
 ],
 "metadata": {
  "kernelspec": {
   "display_name": "Python 2",
   "language": "python",
   "name": "python2"
  },
  "language_info": {
   "codemirror_mode": {
    "name": "ipython",
    "version": 2
   },
   "file_extension": ".py",
   "mimetype": "text/x-python",
   "name": "python",
   "nbconvert_exporter": "python",
   "pygments_lexer": "ipython2",
   "version": "2.7.8"
  }
 },
 "nbformat": 4,
 "nbformat_minor": 0
}
