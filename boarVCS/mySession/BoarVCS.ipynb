{
 "cells": [
  {
   "cell_type": "markdown",
   "metadata": {},
   "source": [
    "# BoarVCS\n",
    "Boar is a version control system written in python designed to be used with large binary files. \n",
    "\n",
    "This is my first attempt at using it. Lets say I have a few files I want to keep track of with a history. My work directory is **boarCVS** and I have a folder **to_add** that I want to track"
   ]
  },
  {
   "cell_type": "code",
   "execution_count": 3,
   "metadata": {
    "collapsed": false
   },
   "outputs": [
    {
     "data": {
      "text/plain": [
       "u'C:\\\\Users\\\\Neal\\\\Desktop\\\\boarVCS'"
      ]
     },
     "execution_count": 3,
     "metadata": {},
     "output_type": "execute_result"
    }
   ],
   "source": [
    "pwd"
   ]
  },
  {
   "cell_type": "code",
   "execution_count": 4,
   "metadata": {
    "collapsed": false
   },
   "outputs": [
    {
     "name": "stdout",
     "output_type": "stream",
     "text": [
      " Volume in drive C has no label.\n",
      " Volume Serial Number is 0C1E-14A7\n",
      "\n",
      " Directory of C:\\Users\\Neal\\Desktop\\boarVCS\n",
      "\n",
      "09/16/2015  08:12 PM    <DIR>          .\n",
      "09/16/2015  08:12 PM    <DIR>          ..\n",
      "09/16/2015  07:44 PM    <DIR>          .ipynb_checkpoints\n",
      "09/16/2015  08:13 PM    <DIR>          mySession\n",
      "               0 File(s)              0 bytes\n",
      "               4 Dir(s)  30,345,322,496 bytes free\n"
     ]
    }
   ],
   "source": [
    "ls"
   ]
  },
  {
   "cell_type": "markdown",
   "metadata": {},
   "source": [
    "the first step is to create a repository. This is where all the files are stored. A directory named myRepo will be created"
   ]
  },
  {
   "cell_type": "code",
   "execution_count": 6,
   "metadata": {
    "collapsed": false
   },
   "outputs": [
    {
     "name": "stdout",
     "output_type": "stream",
     "text": [
      "ERROR: File or directory already exists: myRepo\n",
      "Finished in 0.0 seconds\n"
     ]
    }
   ],
   "source": [
    "!boar mkrepo myRepo"
   ]
  },
  {
   "cell_type": "code",
   "execution_count": 8,
   "metadata": {
    "collapsed": false
   },
   "outputs": [
    {
     "name": "stdout",
     "output_type": "stream",
     "text": [
      "[Error 2] The system cannot find the file specified: u'myRepo/'\n",
      "C:\\Users\\Neal\\Desktop\\boarVCS\\myRepo\n"
     ]
    }
   ],
   "source": [
    "cd myRepo/"
   ]
  },
  {
   "cell_type": "code",
   "execution_count": 9,
   "metadata": {
    "collapsed": false
   },
   "outputs": [
    {
     "name": "stdout",
     "output_type": "stream",
     "text": [
      " Volume in drive C has no label.\n",
      " Volume Serial Number is 0C1E-14A7\n",
      "\n",
      " Directory of C:\\Users\\Neal\\Desktop\\boarVCS\\myRepo\n",
      "\n",
      "09/16/2015  08:13 PM    <DIR>          .\n",
      "09/16/2015  08:13 PM    <DIR>          ..\n",
      "09/16/2015  08:13 PM    <DIR>          blobs\n",
      "09/16/2015  08:13 PM    <DIR>          derived\n",
      "09/16/2015  08:13 PM    <DIR>          queue\n",
      "09/16/2015  08:13 PM             2,888 recovery.txt\n",
      "09/16/2015  08:13 PM                37 repoid.txt\n",
      "09/16/2015  08:13 PM    <DIR>          sessions\n",
      "09/16/2015  08:13 PM    <DIR>          tmp\n",
      "09/16/2015  08:13 PM                 1 version.txt\n",
      "               3 File(s)          2,926 bytes\n",
      "               7 Dir(s)  30,345,371,648 bytes free\n"
     ]
    }
   ],
   "source": [
    "ls"
   ]
  },
  {
   "cell_type": "code",
   "execution_count": 10,
   "metadata": {
    "collapsed": false
   },
   "outputs": [
    {
     "name": "stdout",
     "output_type": "stream",
     "text": [
      "C:\\Users\\Neal\\Desktop\\boarVCS\n"
     ]
    }
   ],
   "source": [
    "cd .."
   ]
  },
  {
   "cell_type": "markdown",
   "metadata": {},
   "source": [
    "The next step is to create a session. A session is a division of the repo. The session data is stored in the repo1 directory"
   ]
  },
  {
   "cell_type": "code",
   "execution_count": 11,
   "metadata": {
    "collapsed": false
   },
   "outputs": [
    {
     "name": "stdout",
     "output_type": "stream",
     "text": [
      "New session 'mySession' was created successfully\n",
      "Finished in 0.02 seconds\n"
     ]
    }
   ],
   "source": [
    "!boar --repo=myRepo mksession mySession"
   ]
  },
  {
   "cell_type": "markdown",
   "metadata": {},
   "source": [
    "Next we import our current files"
   ]
  },
  {
   "cell_type": "code",
   "execution_count": 13,
   "metadata": {
    "collapsed": false
   },
   "outputs": [
    {
     "name": "stdout",
     "output_type": "stream",
     "text": [
      "Looking for files: 1 \n",
      "Looking for files: 4 \n",
      "Verifying checksum cache: 1 \n",
      "Verifying checksum cache: 4 \n",
      "\n",
      "Scanning: 4 files and 0 Mb remaining (0.0% complete, 0.0 Mb/s)\n",
      "                                                              \n",
      "Scanning: 0 files and 0 Mb remaining (100.0% complete, 0.0 Mb/s)\n",
      "Loading session... done\n",
      "Calculating changes... done\n",
      "Sending .ipynb_checkpoints/BoarVCS-checkpoint.ipynb\n",
      "Sending BoarVCS.ipynb\n",
      "Sending boarVCS.md\n",
      "Sending test.docx\n",
      "Checked in session id 2\n",
      "Finished in 0.06 seconds\n"
     ]
    }
   ],
   "source": [
    "!boar --repo=myRepo import mySession mySession"
   ]
  },
  {
   "cell_type": "code",
   "execution_count": 14,
   "metadata": {
    "collapsed": false
   },
   "outputs": [
    {
     "name": "stdout",
     "output_type": "stream",
     "text": [
      "C:\\Users\\Neal\\Desktop\\boarVCS\\mySession\n"
     ]
    }
   ],
   "source": [
    "cd mySession/"
   ]
  },
  {
   "cell_type": "markdown",
   "metadata": {},
   "source": [
    "see if any changes have been made"
   ]
  },
  {
   "cell_type": "code",
   "execution_count": 20,
   "metadata": {
    "collapsed": false
   },
   "outputs": [
    {
     "name": "stdout",
     "output_type": "stream",
     "text": [
      "Looking for files: 1 \n",
      "Looking for files: 4 \n",
      "Verifying checksum cache: 1 \n",
      "Verifying checksum cache: 4 \n",
      "\n",
      "Scanning: 1 files and 0 Mb remaining (0.0% complete, 0.0 Mb/s)\n",
      "                                                              \n",
      "Scanning: 0 files and 0 Mb remaining (100.0% complete, 0.0 Mb/s)\n",
      "Loading session... done\n",
      "Calculating changes... done\n",
      "M BoarVCS.ipynb\n",
      "Finished in 0.04 seconds\n"
     ]
    }
   ],
   "source": [
    "!boar status"
   ]
  },
  {
   "cell_type": "markdown",
   "metadata": {},
   "source": [
    "Commit changes"
   ]
  },
  {
   "cell_type": "code",
   "execution_count": 21,
   "metadata": {
    "collapsed": false
   },
   "outputs": [
    {
     "name": "stdout",
     "output_type": "stream",
     "text": [
      "Looking for files: 1 \n",
      "Looking for files: 4 \n",
      "Verifying checksum cache: 1 \n",
      "Verifying checksum cache: 4 \n",
      "Loading session... done\n",
      "Calculating changes... done\n",
      "Sending BoarVCS.ipynb\n",
      "Checked in session id 3\n",
      "Finished in 0.04 seconds\n"
     ]
    }
   ],
   "source": [
    "!boar ci"
   ]
  },
  {
   "cell_type": "markdown",
   "metadata": {},
   "source": [
    "to update the current work directory for changes that have been made elsewhere"
   ]
  },
  {
   "cell_type": "code",
   "execution_count": 22,
   "metadata": {
    "collapsed": false
   },
   "outputs": [
    {
     "name": "stdout",
     "output_type": "stream",
     "text": [
      "Looking for files: 1 \n",
      "Looking for files: 4 \n",
      "Verifying checksum cache: 1 \n",
      "Verifying checksum cache: 4 \n",
      "Loading session... done\n",
      "Calculating changes... done\n",
      "Workdir now at revision 3\n",
      "Finished in 0.02 seconds\n"
     ]
    }
   ],
   "source": [
    "!boar update"
   ]
  },
  {
   "cell_type": "markdown",
   "metadata": {},
   "source": [
    "A quick reference to the commands boar has can be found by type this"
   ]
  },
  {
   "cell_type": "code",
   "execution_count": 43,
   "metadata": {
    "collapsed": false
   },
   "outputs": [
    {
     "data": {
      "text/plain": [
       "u'C:\\\\Users\\\\Neal\\\\Desktop\\\\boarVCS\\\\mySession'"
      ]
     },
     "execution_count": 43,
     "metadata": {},
     "output_type": "execute_result"
    }
   ],
   "source": [
    "pwd"
   ]
  },
  {
   "cell_type": "code",
   "execution_count": 44,
   "metadata": {
    "collapsed": false
   },
   "outputs": [
    {
     "name": "stdout",
     "output_type": "stream",
     "text": [
      "Repository: C:\\Users\\Neal\\Desktop\\boarVCS\\myRepo\n",
      "Session / Path: mySession\n",
      "Snapshot id: 3\n",
      "Workdir root: C:\\Users\\Neal\\Desktop\\boarVCS\\mySession\n",
      "Finished in 0.0 seconds\n"
     ]
    }
   ],
   "source": [
    "!boar info"
   ]
  },
  {
   "cell_type": "code",
   "execution_count": 47,
   "metadata": {
    "collapsed": false
   },
   "outputs": [
    {
     "name": "stdout",
     "output_type": "stream",
     "text": [
      "C:\\Users\\Neal\\Desktop\\boarVCS\n"
     ]
    }
   ],
   "source": [
    "cd .."
   ]
  },
  {
   "cell_type": "code",
   "execution_count": 49,
   "metadata": {
    "collapsed": false
   },
   "outputs": [
    {
     "name": "stdout",
     "output_type": "stream",
     "text": [
      "mySession (3 revs)\n",
      "Finished in 0.01 seconds\n"
     ]
    }
   ],
   "source": [
    "!boar --repo=myRepo/ list"
   ]
  },
  {
   "cell_type": "code",
   "execution_count": 13,
   "metadata": {
    "collapsed": false
   },
   "outputs": [
    {
     "name": "stdout",
     "output_type": "stream",
     "text": [
      "C:\\Users\\Neal\\Desktop\\boarVCS\\mySession\n"
     ]
    }
   ],
   "source": [
    "cd mySession/"
   ]
  },
  {
   "cell_type": "markdown",
   "metadata": {},
   "source": [
    "Make a few more changes and commits to the files"
   ]
  },
  {
   "cell_type": "code",
   "execution_count": 15,
   "metadata": {
    "collapsed": false
   },
   "outputs": [
    {
     "name": "stdout",
     "output_type": "stream",
     "text": [
      "--------------------------------------------------------------------------------\n",
      "r6 | mySession | Wed Sep 16 20:34:23 2015 | 1 log line\n",
      "\n",
      "'deleted-docx'\n",
      "--------------------------------------------------------------------------------\n",
      "r5 | mySession | Wed Sep 16 20:33:23 2015 | 1 log line\n",
      "\n",
      "'editdocx'\n",
      "--------------------------------------------------------------------------------\n",
      "r4 | mySession | Wed Sep 16 20:31:28 2015 | 0 log lines\n",
      "\n",
      "--------------------------------------------------------------------------------\n",
      "r3 | mySession | Wed Sep 16 20:16:22 2015 | 0 log lines\n",
      "\n",
      "--------------------------------------------------------------------------------\n",
      "r2 | mySession | Wed Sep 16 20:15:08 2015 | 0 log lines\n",
      "\n",
      "--------------------------------------------------------------------------------\n",
      "r1 | mySession | Wed Sep 16 20:14:47 2015 | 0 log lines\n",
      "\n",
      "--------------------------------------------------------------------------------\n",
      "Finished in 0.01 seconds\n"
     ]
    }
   ],
   "source": [
    "!boar log"
   ]
  },
  {
   "cell_type": "markdown",
   "metadata": {},
   "source": [
    "In the root of the repo, we can check out any of the commits we made using the checkout (co) command. Lets check out revision 4"
   ]
  },
  {
   "cell_type": "code",
   "execution_count": 19,
   "metadata": {
    "collapsed": false
   },
   "outputs": [
    {
     "name": "stdout",
     "output_type": "stream",
     "text": [
      "Checking out to workdir C:\\Users\\Neal\\Desktop\\boarVCS\\checkouttest\n",
      "BoarVCS.ipynb\n",
      "boarVCS.md\n",
      "test.docx\n",
      "Finished in 0.03 seconds\n"
     ]
    }
   ],
   "source": [
    "!boar co --repo=myRepo -r 4 mySession checkouttest "
   ]
  },
  {
   "cell_type": "code",
   "execution_count": 20,
   "metadata": {
    "collapsed": false
   },
   "outputs": [
    {
     "name": "stdout",
     "output_type": "stream",
     "text": [
      " Volume in drive C has no label.\n",
      " Volume Serial Number is 0C1E-14A7\n",
      "\n",
      " Directory of C:\\Users\\Neal\\Desktop\\boarVCS\n",
      "\n",
      "09/17/2015  09:48 PM    <DIR>          .\n",
      "09/17/2015  09:48 PM    <DIR>          ..\n",
      "09/17/2015  09:48 PM    <DIR>          checkouttest\n",
      "09/16/2015  08:13 PM    <DIR>          myRepo\n",
      "09/17/2015  09:47 PM    <DIR>          mySession\n",
      "               0 File(s)              0 bytes\n",
      "               5 Dir(s)  30,238,846,976 bytes free\n"
     ]
    }
   ],
   "source": [
    "ls"
   ]
  },
  {
   "cell_type": "markdown",
   "metadata": {},
   "source": [
    "observe the new folder checkouttest that has the files from when I checked them in at r4. Thos files can be used there, or copied to another session and commited.\n",
    "\n",
    "There are other commands I have not tried yet. Here are some of them."
   ]
  },
  {
   "cell_type": "code",
   "execution_count": 22,
   "metadata": {
    "collapsed": false
   },
   "outputs": [
    {
     "name": "stdout",
     "output_type": "stream",
     "text": [
      "Boar version boar.16-Nov-2012\n",
      "Usage: boar <command> \n",
      "\n",
      "Commands:\n",
      "ci        Commit changes in a work directory\n",
      "clone     Create or update a clone of a repository\n",
      "co        Check out files from the repository\n",
      "diffrepo  Check if two repositories are identical\n",
      "getprop   Get session properties, such as file ignore lists\n",
      "info      Show some information about the current workdir\n",
      "import    Import the contents of a folder into your repository\n",
      "list      Show the contents of a repository or snapshot\n",
      "locate    Check if some non-versioned files are already present in a repository\n",
      "log       Show changes and log messages\n",
      "ls        Show the contents of a specific sub directory of a snapshot\n",
      "mkrepo    Create a new repository\n",
      "mksession Create a new session\n",
      "setprop   Set session properties, such as file ignore lists\n",
      "serve     Make a repository accessible over the network\n",
      "status    List any changes in the current work directory\n",
      "update    Update the current work directory from the repository\n",
      "verify    Verify the integrity of the repository\n",
      "\n",
      "For most commands, you can type \"boar <command> --help\" to get more\n",
      "information. The full command reference is available online at\n",
      "http://code.google.com/p/boar/wiki/CommandReference\n",
      "\n",
      "Finished in 0.0 seconds\n"
     ]
    }
   ],
   "source": [
    "!boar"
   ]
  },
  {
   "cell_type": "markdown",
   "metadata": {
    "collapsed": true
   },
   "source": [
    "I still need to do some more concrete tests with git, git-annex, git lfs, mercurial, mercrial large file extension, but for large binaries, boar might just be the ticket!\n",
    "\n",
    "some other references\n",
    "[source code](https://bitbucket.org/mats_ekberg/boar/overview) and [more commands](https://bitbucket.org/mats_ekberg/boar/wiki/CommandReference)\n",
    "\n",
    "There is also a gui that can be used with boar, and it can be found [here](https://github.com/Gediminas/boar-gui)"
   ]
  }
 ],
 "metadata": {
  "kernelspec": {
   "display_name": "Python 2",
   "language": "python",
   "name": "python2"
  },
  "language_info": {
   "codemirror_mode": {
    "name": "ipython",
    "version": 2
   },
   "file_extension": ".py",
   "mimetype": "text/x-python",
   "name": "python",
   "nbconvert_exporter": "python",
   "pygments_lexer": "ipython2",
   "version": "2.7.7"
  }
 },
 "nbformat": 4,
 "nbformat_minor": 0
}
