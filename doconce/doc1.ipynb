{
 "metadata": {},
 "nbformat": 3,
 "nbformat_minor": 0,
 "worksheets": [
  {
   "cells": [
    {
     "cell_type": "markdown",
     "metadata": {},
     "source": [
      "### Submain heading\n",
      "\n",
      "here is some text in the submain heading\n",
      "\n",
      "#### Finally a Subsubection Heading with 3 = Characters\n",
      "\n",
      "You can also have paragraphs with a paragraph heading surrounded\n",
      "by double underscores are the beginning of a line.\n",
      "\n",
      "**This is a paragraph heading.**\n",
      "And here comes the text.\n",
      "\n",
      "\n",
      "\n",
      "Lists are typeset as you would do in email,\n",
      "\n",
      "  * item 1\n",
      "\n",
      "  * item 2,\n",
      "    perhaps with a 2nd line\n",
      "\n",
      "  * item 3\n",
      "\n",
      "---------\n",
      "\n",
      "\n",
      "\n",
      "Ordinary text looks like ordinary text, but must always start at the\n",
      "beginning of lines. Tags used for **boldface** words, *emphasized*\n",
      "words, and `computer` words look natural in plain text.  Quotations\n",
      "appear inside double backticks and double single quotes, as in \"this\n",
      "example\"."
     ]
    }
   ],
   "metadata": {}
  }
 ]
}
