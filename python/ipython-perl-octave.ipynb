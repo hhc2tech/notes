{
 "cells": [
  {
   "cell_type": "markdown",
   "metadata": {},
   "source": [
    "Ipython can run other languages as a suboprocess if you have the interpretor installed on your machine"
   ]
  },
  {
   "cell_type": "code",
   "execution_count": 1,
   "metadata": {
    "collapsed": false
   },
   "outputs": [
    {
     "name": "stdout",
     "output_type": "stream",
     "text": [
      "Hello World\r\n"
     ]
    }
   ],
   "source": [
    "%%script python\n",
    "print('Hello World')"
   ]
  },
  {
   "cell_type": "code",
   "execution_count": 2,
   "metadata": {
    "collapsed": false
   },
   "outputs": [
    {
     "name": "stdout",
     "output_type": "stream",
     "text": [
      "GNU Octave, version 3.6.4\n",
      "Copyright (C) 2013 John W. Eaton and others.\n",
      "This is free software; see the source code for copying conditions.\n",
      "There is ABSOLUTELY NO WARRANTY; not even for MERCHANTABILITY or\n",
      "FITNESS FOR A PARTICULAR PURPOSE.  For details, type `warranty'.\n",
      "\n",
      "Octave was configured for \"i686-pc-mingw32\".\n",
      "\n",
      "Additional information about Octave is available at http://www.octave.org.\n",
      "\n",
      "Please contribute if you find this software useful.\n",
      "For more information, visit http://www.octave.org/get-involved.html\n",
      "\n",
      "Read http://www.octave.org/bugs.html to learn how to submit bug reports.\n",
      "\n",
      "For information about changes from previous versions, type `news'.\n",
      "\n",
      " - Use `pkg list' to see a list of installed packages.\n",
      " - MSYS shell available (C:\\Software\\Octave-3.6.4\\msys).\n",
      " - Graphics backend: gnuplot.\n",
      "\n",
      "Hello World"
     ]
    }
   ],
   "source": [
    "%%script octave\n",
    "printf (\"Hello World\");"
   ]
  },
  {
   "cell_type": "code",
   "execution_count": 1,
   "metadata": {
    "collapsed": false
   },
   "outputs": [
    {
     "name": "stdout",
     "output_type": "stream",
     "text": [
      "Hello World"
     ]
    }
   ],
   "source": [
    "%%script perl\n",
    "print \"Hello World\";"
   ]
  },
  {
   "cell_type": "markdown",
   "metadata": {},
   "source": [
    "Ipython can run OS commands or scripts"
   ]
  },
  {
   "cell_type": "code",
   "execution_count": 6,
   "metadata": {
    "collapsed": false
   },
   "outputs": [
    {
     "data": {
      "text/plain": [
       "0"
      ]
     },
     "execution_count": 6,
     "metadata": {},
     "output_type": "execute_result"
    }
   ],
   "source": [
    "import os\n",
    "os.system('perl hello.pl')"
   ]
  },
  {
   "cell_type": "markdown",
   "metadata": {},
   "source": [
    "You can also load scipts"
   ]
  },
  {
   "cell_type": "code",
   "execution_count": null,
   "metadata": {
    "collapsed": true
   },
   "outputs": [],
   "source": [
    "%load hello.pl"
   ]
  },
  {
   "cell_type": "markdown",
   "metadata": {},
   "source": [
    "Then manually add the %%script magic to run"
   ]
  },
  {
   "cell_type": "code",
   "execution_count": 10,
   "metadata": {
    "collapsed": false
   },
   "outputs": [
    {
     "name": "stdout",
     "output_type": "stream",
     "text": [
      "Hello, World!\r\n"
     ]
    }
   ],
   "source": [
    "%%script perl\n",
    "# %load hello.pl\n",
    " # hello.pl\n",
    " #  - Displays a warm greeting\n",
    "\n",
    " print \"Hello, World!\\n\";"
   ]
  }
 ],
 "metadata": {
  "kernelspec": {
   "display_name": "Python 3",
   "language": "python",
   "name": "python3"
  },
  "language_info": {
   "codemirror_mode": {
    "name": "ipython",
    "version": 3
   },
   "file_extension": ".py",
   "mimetype": "text/x-python",
   "name": "python",
   "nbconvert_exporter": "python",
   "pygments_lexer": "ipython3",
   "version": "3.5.2"
  }
 },
 "nbformat": 4,
 "nbformat_minor": 0
}
